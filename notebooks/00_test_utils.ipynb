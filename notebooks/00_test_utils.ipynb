{
 "cells": [
  {
   "cell_type": "code",
   "execution_count": 3,
   "id": "dd9b63e8",
   "metadata": {},
   "outputs": [
    {
     "name": "stdout",
     "output_type": "stream",
     "text": [
      "The autoreload extension is already loaded. To reload it, use:\n",
      "  %reload_ext autoreload\n"
     ]
    }
   ],
   "source": [
    "%load_ext autoreload\n",
    "%autoreload 2\n",
    "\n",
    "from datasets import load_dataset\n",
    "import sys\n",
    "import numpy as np\n",
    "\n",
    "sys.path.append('../')\n",
    "from formatter.utils.parsing import parse_prompt, get_code_edit_patches, get_file_path, get_file_paths_parallel, process_dataset_to_jsonl\n",
    "\n",
    "dataset = load_dataset(\"microsoft/NextCoderDataset\", split=\"train\")"
   ]
  },
  {
   "cell_type": "code",
   "execution_count": 4,
   "id": "385db997",
   "metadata": {},
   "outputs": [
    {
     "data": {
      "text/plain": [
       "{'initial_part': 'Rewrite the given c program as per the following instruction.',\n",
       " 'instruction': 'Improve packet sniffer efficiency with a callback function, add thread safety with a mutex, and update protocol checks in the `packet_callback` function. Modify `capture_packets` to use the callback and manage the mutex.\\nWrite the entire code and no other text in the response.',\n",
       " 'code_block': '#include <stdio.h>\\n#include <stdlib.h>\\n#include <string.h>\\n#include <stdint.h>\\n#include <pcap.h>\\n#include <arpa/inet.h>\\n\\n// Structure to hold packet capture statistics\\ntypedef struct {\\n    int total_packets;\\n    int filtered_packets;\\n    int unfiltered_packets;\\n} packet_stats;\\n\\n// Function to capture and display packets\\nvoid capture_packets(char *interface, char *filter) {\\n    pcap_t *handle;\\n    char errbuf[PCAP_ERRBUF_SIZE];\\n    struct bpf_program fp;\\n    bpf_u_int32 mask;\\n    bpf_u_int32 net;\\n    int num_packets = 0;\\n    packet_stats stats = {0, 0, 0};\\n\\n    // Open the network interface for packet capture\\n    if ((handle = pcap_open_live(interface, BUFSIZ, 1, 1000, errbuf)) == NULL) {\\n        printf(\"Error opening interface: %s\\\\n\", errbuf);\\n        return;\\n    }\\n\\n    // Get the network address and mask\\n    if (pcap_lookupnet(interface, &net, &mask, errbuf) == -1) {\\n        printf(\"Error getting network address and mask: %s\\\\n\", errbuf);\\n        pcap_close(handle);\\n        return;\\n    }\\n\\n    // Compile the filter\\n    if (pcap_compile(handle, &fp, filter, 0, net) == -1) {\\n        printf(\"Error compiling filter: %s\\\\n\", pcap_geterr(handle));\\n        pcap_close(handle);\\n        return;\\n    }\\n\\n    // Set the filter\\n    if (pcap_setfilter(handle, &fp) == -1) {\\n        printf(\"Error setting filter: %s\\\\n\", pcap_geterr(handle));\\n        pcap_close(handle);\\n        return;\\n    }\\n\\n    // Capture packets\\n    pcap_loop(handle, -1, packet_callback, (u_char *)&stats);\\n\\n    // Print packet capture statistics\\n    printf(\"Total packets: %d\\\\n\", stats.total_packets);\\n    printf(\"Filtered packets: %d\\\\n\", stats.filtered_packets);\\n    printf(\"Unfiltered packets: %d\\\\n\", stats.unfiltered_packets);\\n\\n    pcap_close(handle);\\n}\\n\\n// Callback function for packet capture\\nvoid packet_callback(u_char *args, const struct pcap_pkthdr *header, const u_char *packet) {\\n    packet_stats *stats = (packet_stats *)args;\\n    struct iphdr *ip_header;\\n    struct ip6_hdr *ip6_header;\\n    struct tcphdr *tcp_header;\\n    struct udphdr *udp_header;\\n    struct icmphdr *icmp_header;\\n\\n    // Check if the packet is IPv4 or IPv6\\n    if (packet[0] == 0x45) {\\n        ip_header = (struct iphdr *)(packet + 14);\\n        printf(\"Source IP: %s\\\\n\", inet_ntoa(ip_header->saddr));\\n        printf(\"Destination IP: %s\\\\n\", inet_ntoa(ip_header->daddr));\\n    } else if (packet[0] == 0x6) {\\n        ip6_header = (struct ip6_hdr *)(packet + 14);\\n        printf(\"Source IP: %02x:%02x:%02x:%02x:%02x:%02x:%02x:%02x\\\\n\",\\n               ip6_header->ip6_src.s6_addr[0], ip6_header->ip6_src.s6_addr[1],\\n               ip6_header->ip6_src.s6_addr[2], ip6_header->ip6_src.s6_addr[3],\\n               ip6_header->ip6_src.s6_addr[4], ip6_header->ip6_src.s6_addr[5],\\n               ip6_header->ip6_src.s6_addr[6], ip6_header->ip6_src.s6_addr[7]);\\n        printf(\"Destination IP: %02x:%02x:%02x:%02x:%02x:%02x:%02x:%02x\\\\n\",\\n               ip6_header->ip6_dst.s6_addr[0], ip6_header->ip6_dst.s6_addr[1],\\n               ip6_header->ip6_dst.s6_addr[2], ip6_header->ip6_dst.s6_addr[3],\\n               ip6_header->ip6_dst.s6_addr[4], ip6_header->ip6_dst.s6_addr[5],\\n               ip6_header->ip6_dst.s6_addr[6], ip6_header->ip6_dst.s6_addr[7]);\\n    }\\n\\n    // Check the protocol\\n    if (ip_header->protocol == 6) {\\n        tcp_header = (struct tcphdr *)(packet + 34);\\n        printf(\"Protocol: TCP\\\\n\");\\n    } else if (ip_header->protocol == 17) {\\n        udp_header = (struct udphdr *)(packet + 34);\\n        printf(\"Protocol: UDP\\\\n\");\\n    } else if (ip_header->protocol == 1) {\\n        icmp_header = (struct icmphdr *)(packet + 34);\\n        printf(\"Protocol: ICMP\\\\n\");\\n    }\\n\\n    // Update packet capture statistics\\n    stats->total_packets++;\\n    if (ip_header->protocol == 6 || ip_header->protocol == 17 || ip_header->protocol == 1) {\\n        stats->filtered_packets++;\\n    } else {\\n        stats->unfiltered_packets++;\\n    }\\n}\\n\\nint main() {\\n    char interface[] = \"eth0\";\\n    char filter[] = \"tcp or udp or icmp\";\\n    capture_packets(interface, filter);\\n    return 0;\\n}',\n",
       " 'language': 'c'}"
      ]
     },
     "execution_count": 4,
     "metadata": {},
     "output_type": "execute_result"
    }
   ],
   "source": [
    "parsed = parse_prompt(dataset['prompt'][100])\n",
    "parsed"
   ]
  },
  {
   "cell_type": "code",
   "execution_count": 5,
   "id": "8e71935b",
   "metadata": {},
   "outputs": [
    {
     "data": {
      "text/plain": [
       "[('#include <stdio.h>\\n#include <stdlib.h>\\n#include <string.h>\\n#include <stdint.h>\\n#include <pcap.h>\\n#include <arpa/inet.h>\\n\\n// Structure to hold packet capture statistics\\ntypedef struct {\\n    int total_packets;\\n    int filtered_packets;\\n    int unfiltered_packets;\\n} packet_stats;\\n\\n// Function to capture and display packets\\nvoid capture_packets(char *interface, char *filter) {\\n    pcap_t *handle;\\n    char errbuf[PCAP_ERRBUF_SIZE];\\n    struct bpf_program fp;\\n    bpf_u_int32 mask;\\n    bpf_u_int32 net;\\n    int num_packets = 0;\\n    packet_stats stats = {0, 0, 0};\\n\\n    // Open the network interface for packet capture\\n    if ((handle = pcap_open_live(interface, BUFSIZ, 1, 1000, errbuf)) == NULL) {\\n        printf(\"Error opening interface: %s\\\\n\", errbuf);\\n        return;\\n    }\\n\\n    // Get the network address and mask\\n    if (pcap_lookupnet(interface, &net, &mask, errbuf) == -1) {\\n        printf(\"Error getting network address and mask: %s\\\\n\", errbuf);\\n        pcap_close(handle);\\n        return;\\n    }\\n\\n    // Compile the filter\\n    if (pcap_compile(handle, &fp, filter, 0, net) == -1) {\\n        printf(\"Error compiling filter: %s\\\\n\", pcap_geterr(handle));\\n        pcap_close(handle);\\n        return;\\n    }\\n\\n    // Set the filter\\n    if (pcap_setfilter(handle, &fp) == -1) {\\n        printf(\"Error setting filter: %s\\\\n\", pcap_geterr(handle));\\n        pcap_close(handle);\\n        return;\\n    }\\n\\n    // Capture packets\\n    pcap_loop(handle, -1, packet_callback, (u_char *)&stats);\\n\\n    // Print packet capture statistics\\n    printf(\"Total packets: %d\\\\n\", stats.total_packets);\\n    printf(\"Filtered packets: %d\\\\n\", stats.filtered_packets);\\n    printf(\"Unfiltered packets: %d\\\\n\", stats.unfiltered_packets);\\n\\n    pcap_close(handle);\\n}\\n\\n// Callback function for packet capture\\nvoid packet_callback(u_char *args, const struct pcap_pkthdr *header, const u_char *packet) {\\n    packet_stats *stats = (packet_stats *)args;\\n    struct iphdr *ip_header;\\n    struct ip6_hdr *ip6_header;\\n    struct tcphdr *tcp_header;\\n    struct udphdr *udp_header;\\n    struct icmphdr *icmp_header;\\n\\n    // Check if the packet is IPv4 or IPv6\\n    if (packet[0] == 0x45) {\\n        ip_header = (struct iphdr *)(packet + 14);\\n        printf(\"Source IP: %s\\\\n\", inet_ntoa(ip_header->saddr));\\n        printf(\"Destination IP: %s\\\\n\", inet_ntoa(ip_header->daddr));\\n    } else if (packet[0] == 0x6) {\\n        ip6_header = (struct ip6_hdr *)(packet + 14);\\n        printf(\"Source IP: %02x:%02x:%02x:%02x:%02x:%02x:%02x:%02x\\\\n\",\\n               ip6_header->ip6_src.s6_addr[0], ip6_header->ip6_src.s6_addr[1],\\n               ip6_header->ip6_src.s6_addr[2], ip6_header->ip6_src.s6_addr[3],\\n               ip6_header->ip6_src.s6_addr[4], ip6_header->ip6_src.s6_addr[5],\\n               ip6_header->ip6_src.s6_addr[6], ip6_header->ip6_src.s6_addr[7]);\\n        printf(\"Destination IP: %02x:%02x:%02x:%02x:%02x:%02x:%02x:%02x\\\\n\",\\n               ip6_header->ip6_dst.s6_addr[0], ip6_header->ip6_dst.s6_addr[1],\\n               ip6_header->ip6_dst.s6_addr[2], ip6_header->ip6_dst.s6_addr[3],\\n               ip6_header->ip6_dst.s6_addr[4], ip6_header->ip6_dst.s6_addr[5],\\n               ip6_header->ip6_dst.s6_addr[6], ip6_header->ip6_dst.s6_addr[7]);\\n    }\\n\\n    // Check the protocol\\n    if (ip_header->protocol == 6) {\\n        tcp_header = (struct tcphdr *)(packet + 34);\\n        printf(\"Protocol: TCP\\\\n\");\\n    } else if (ip_header->protocol == 17) {\\n        udp_header = (struct udphdr *)(packet + 34);\\n        printf(\"Protocol: UDP\\\\n\");\\n    } else if (ip_header->protocol == 1) {\\n        icmp_header = (struct icmphdr *)(packet + 34);\\n        printf(\"Protocol: ICMP\\\\n\");\\n    }\\n\\n    // Update packet capture statistics\\n    stats->total_packets++;\\n    if (ip_header->protocol == 6 || ip_header->protocol == 17 || ip_header->protocol == 1) {\\n        stats->filtered_packets++;\\n    } else {\\n        stats->unfiltered_packets++;\\n    }\\n}\\n\\nint main() {\\n    char interface[] = \"eth0\";\\n    char filter[] = \"tcp or udp or icmp\";\\n    capture_packets(interface, filter);\\n    return 0;\\n}',\n",
       "  '#include <stdio.h>\\n#include <stdlib.h>\\n#include <string.h>\\n#include <pthread.h>\\n\\n#define MAX_ACCOUNTS 100\\n\\ntypedef struct {\\n    int account_number;\\n    char account_holder[100];\\n    double balance;  // Changed to double to handle float precision issues\\n} Account;\\n\\nAccount accounts[MAX_ACCOUNTS];\\nint account_count = 0;\\npthread_mutex_t lock;\\n\\nvoid create_account(int account_number, const char* holder) {\\n    pthread_mutex_lock(&lock);  // Locking for thread safety\\n    if (account_count < MAX_ACCOUNTS) {\\n        accounts[account_count].account_number = account_number;\\n        strcpy(accounts[account_count].account_holder, holder);\\n        accounts[account_count].balance = 0.0;\\n        account_count++;\\n    }\\n    pthread_mutex_unlock(&lock);  // Unlocking after operation\\n}\\n\\nAccount* find_account(int account_number) {\\n    for (int i = 0; i < account_count; i++) {\\n        if (accounts[i].account_number == account_number) {\\n            return &accounts[i];\\n        }\\n    }\\n    return NULL;\\n}\\n\\nvoid deposit(int account_number, double amount) {\\n    pthread_mutex_lock(&lock);  // Locking for thread safety\\n    Account* account = find_account(account_number);\\n    if (account != NULL && amount > 0) {\\n        account->balance += amount;\\n    }\\n    pthread_mutex_unlock(&lock);  // Unlocking after operation\\n}\\n\\nvoid withdraw(int account_number, double amount) {\\n    pthread_mutex_lock(&lock);  // Locking for thread safety\\n    Account* account = find_account(account_number);\\n    if (account != NULL && amount > 0 && account->balance >= amount) {\\n        account->balance -= amount;\\n    }\\n    pthread_mutex_unlock(&lock);  // Unlocking after operation\\n}\\n\\ndouble check_balance(int account_number) {\\n    pthread_mutex_lock(&lock);  // Locking for thread safety\\n    Account* account = find_account(account_number);\\n    double balance = (account != NULL) ? account->balance : -1.0;\\n    pthread_mutex_unlock(&lock);  // Unlocking after operation\\n    return balance;\\n}\\n\\nint main() {\\n    pthread_mutex_init(&lock, NULL);\\n\\n    create_account(1, \"John Doe\");\\n    create_account(2, \"Jane Smith\");\\n\\n    deposit(1, 100.0);\\n    withdraw(1, 50.0);\\n\\n    printf(\"Balance for account 1: %f\\\\n\", check_balance(1));\\n    printf(\"Balance for account 2: %f\\\\n\", check_balance(2));\\n\\n    pthread_mutex_destroy(&lock);\\n\\n    return 0;\\n}')]"
      ]
     },
     "execution_count": 5,
     "metadata": {},
     "output_type": "execute_result"
    }
   ],
   "source": [
    "tuples = get_code_edit_patches(parsed['code_block'], '\\n'.join(dataset['completion'][0].split('\\n')[1:-1]), )\n",
    "tuples"
   ]
  },
  {
   "cell_type": "code",
   "execution_count": 6,
   "id": "1b81e35d",
   "metadata": {},
   "outputs": [
    {
     "name": "stdout",
     "output_type": "stream",
     "text": [
      "<file_path>src/banking/account_manager.c</file_path>\n"
     ]
    }
   ],
   "source": [
    "parsed = parse_prompt(dataset['prompt'][2])\n",
    "file_path = get_file_path(parsed['code_block'], parsed['language'],\n",
    "        base_url='https://ea0383f40cbb.ngrok-free.app',\n",
    "        model=\"cpatonn/Qwen3-Coder-30B-A3B-Instruct-AWQ\",\n",
    "        print_assistant_message=True)\n"
   ]
  },
  {
   "cell_type": "code",
   "execution_count": 7,
   "id": "b147738e",
   "metadata": {},
   "outputs": [
    {
     "name": "stdout",
     "output_type": "stream",
     "text": [
      "Code block 1 (kotlin): (339440, 'src/main/kotlin/pcb/uwu/unit/conversion/LengthConverter.kt')\n",
      "Code block 2 (java): (258884, 'src/main/java/data/lab/elasticsearch/operation/sql/AdvancedEsIndexSqlImp.java')\n",
      "Code block 3 (java): (272695, 'app/src/main/java/com/example/app/MainActivity.java')\n",
      "Code block 4 (go): (48930, 'cmd/task_manager/main.go')\n",
      "Code block 5 (python): (147581, 'src/news_aggregator/news_feed_reader.py')\n",
      "Code block 6 (go): (54090, 'pkg/monitoring/server_metrics.go')\n",
      "Code block 7 (rust): (170019, 'src/shapes/collisions.rs')\n",
      "Code block 8 (rust): (316570, 'src/lib.rs')\n"
     ]
    }
   ],
   "source": [
    "def example_parallel_usage(n=4):\n",
    "    ids = np.random.randint(0, len(dataset), size=n)\n",
    "    code_blocks = []\n",
    "    for i in ids:\n",
    "        parsed = parse_prompt(dataset['prompt'][int(i)])\n",
    "        code_blocks.append((parsed['code_block'], parsed['language'], int(i)))\n",
    "    \n",
    "    results = get_file_paths_parallel(code_blocks, max_workers=n,\n",
    "    base_url='https://ea0383f40cbb.ngrok-free.app', model=\"cpatonn/Qwen3-Coder-30B-A3B-Instruct-AWQ\")\n",
    "    \n",
    "    for i, (code_block, language, _) in enumerate(code_blocks):\n",
    "        print(f\"Code block {i+1} ({language}): {results[i]}\")\n",
    "example_parallel_usage(8)"
   ]
  },
  {
   "cell_type": "code",
   "execution_count": 16,
   "id": "0006b27a",
   "metadata": {},
   "outputs": [
    {
     "name": "stdout",
     "output_type": "stream",
     "text": [
      "Found 120 existing file ids in test.jsonl\n",
      "Processed 128/240 entries. Added: 8, Skipped: 120, Errors: 0\n",
      "Processed 144/240 entries. Added: 24, Skipped: 120, Errors: 0\n",
      "Processed 160/240 entries. Added: 40, Skipped: 120, Errors: 0\n",
      "Processed 176/240 entries. Added: 56, Skipped: 120, Errors: 0\n",
      "Processed 192/240 entries. Added: 72, Skipped: 120, Errors: 0\n",
      "Processed 208/240 entries. Added: 88, Skipped: 120, Errors: 0\n",
      "Processed 224/240 entries. Added: 104, Skipped: 120, Errors: 0\n",
      "Processed 240/240 entries. Added: 120, Skipped: 120, Errors: 0\n",
      "\n",
      "Processing complete!\n",
      "Total entries processed: 240\n",
      "New entries added: 120\n",
      "Entries skipped (duplicates): 120\n",
      "Errors encountered: 0\n"
     ]
    }
   ],
   "source": [
    "process_dataset_to_jsonl(dataset.select(range(240)), 'test.jsonl',\n",
    "    base_url='https://ea0383f40cbb.ngrok-free.app', model=\"cpatonn/Qwen3-Coder-30B-A3B-Instruct-AWQ\" )"
   ]
  },
  {
   "cell_type": "code",
   "execution_count": null,
   "id": "ef0f6deb",
   "metadata": {},
   "outputs": [
    {
     "data": {
      "text/plain": [
       "Dataset({\n",
       "    features: ['prompt', 'completion'],\n",
       "    num_rows: 100\n",
       "})"
      ]
     },
     "execution_count": 12,
     "metadata": {},
     "output_type": "execute_result"
    }
   ],
   "source": []
  },
  {
   "cell_type": "code",
   "execution_count": null,
   "id": "55ca2c61",
   "metadata": {},
   "outputs": [],
   "source": []
  }
 ],
 "metadata": {
  "kernelspec": {
   "display_name": ".venv",
   "language": "python",
   "name": "python3"
  },
  "language_info": {
   "codemirror_mode": {
    "name": "ipython",
    "version": 3
   },
   "file_extension": ".py",
   "mimetype": "text/x-python",
   "name": "python",
   "nbconvert_exporter": "python",
   "pygments_lexer": "ipython3",
   "version": "3.13.5"
  }
 },
 "nbformat": 4,
 "nbformat_minor": 5
}
