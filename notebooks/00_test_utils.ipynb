{
 "cells": [
  {
   "cell_type": "code",
   "execution_count": 1,
   "id": "dd9b63e8",
   "metadata": {},
   "outputs": [
    {
     "name": "stderr",
     "output_type": "stream",
     "text": [
      "/home/pudu/repos/NextCoder-formatter/.venv/lib/python3.13/site-packages/tqdm/auto.py:21: TqdmWarning: IProgress not found. Please update jupyter and ipywidgets. See https://ipywidgets.readthedocs.io/en/stable/user_install.html\n",
      "  from .autonotebook import tqdm as notebook_tqdm\n"
     ]
    }
   ],
   "source": [
    "from datasets import load_dataset\n",
    "import sys\n",
    "\n",
    "sys.path.append('../')\n",
    "from utils.parsing import parse_prompt, get_code_edit_patches, get_file_path\n",
    "\n",
    "dataset = load_dataset(\"microsoft/NextCoderDataset\", split=\"train\")"
   ]
  },
  {
   "cell_type": "code",
   "execution_count": 13,
   "id": "385db997",
   "metadata": {},
   "outputs": [
    {
     "data": {
      "text/plain": [
       "{'initial_part': 'Rewrite the given cpp program as per the following instruction.',\n",
       " 'instruction': 'Step-by-Step Detailed Plan:\\n1. Add an array `visited` of boolean type with size `MAXN` to keep track of visited nodes.\\n2. In the `dijkstra` function, initialize the `visited` array to `false` for all nodes using `fill(visited, visited + n, false);`.\\n3. After extracting the top element from the priority queue in the `dijkstra` function, check if the node `u` has already been visited by examining `visited[u]`.\\n4. If `visited[u]` is `true`, skip the processing of this node by using `continue;`.\\n5. Mark the node `u` as visited by setting `visited[u] = true;`.\\n6. Proceed with the rest of the Dijkstra algorithm as usual, updating distances and pushing new distances into the priority queue as needed.\\n7. Verify the correctness of the updated algorithm by running the main function and checking the output for various test cases. Ensure that the results match the expected shortest path distances.\\nWrite the entire code and no other text in the response.',\n",
       " 'code_block': '#include <bits/stdc++.h>\\nusing namespace std;\\ntypedef long long ll;\\nconst ll INF = LLONG_MAX;\\nconst int MAXN = 1005;\\n\\nvector<pair<int, int>> adj[MAXN];\\nll dist[MAXN];\\n\\nvoid dijkstra(int src, int n) {\\n    fill(dist, dist + n, INF);\\n    dist[src] = 0;\\n    priority_queue<pair<ll, int>, vector<pair<ll, int>>, greater<pair<ll, int>>> pq;\\n    pq.push({0, src});\\n\\n    while (!pq.empty()) {\\n        ll d = pq.top().first;\\n        int u = pq.top().second;\\n        pq.pop();\\n\\n        if (d > dist[u]) continue;\\n\\n        for (auto edge : adj[u]) {\\n            int v = edge.first;\\n            int w = edge.second;\\n            ll new_dist = d;\\n\\n            // Apply the modified weight rules\\n            if (w == 1 && d % 2 == 0) {\\n                new_dist += 2;\\n            } else if (w == 0 && d % 2 != 0) {\\n                new_dist += 2;\\n            } else {\\n                new_dist += 1;\\n            }\\n\\n            if (new_dist < dist[v]) {\\n                dist[v] = new_dist;\\n                pq.push({new_dist, v});\\n            }\\n        }\\n    }\\n}\\n\\nint main() {\\n    int n, m, q;\\n    cin >> n >> m >> q;\\n\\n    for (int i = 0; i < m; ++i) {\\n        int u, v, w;\\n        cin >> u >> v >> w;\\n        adj[u].push_back({v, w});\\n    }\\n\\n    for (int i = 0; i < q; ++i) {\\n        int src, dest;\\n        cin >> src >> dest;\\n        dijkstra(src, n);\\n        if (dist[dest] == INF) {\\n            cout << -1 << endl;\\n        } else {\\n            cout << dist[dest] << endl;\\n        }\\n    }\\n\\n    return 0;\\n}',\n",
       " 'language': 'cpp'}"
      ]
     },
     "execution_count": 13,
     "metadata": {},
     "output_type": "execute_result"
    }
   ],
   "source": [
    "parsed = parse_prompt(dataset['prompt'][360000])\n",
    "parsed"
   ]
  },
  {
   "cell_type": "code",
   "execution_count": 14,
   "id": "8e71935b",
   "metadata": {},
   "outputs": [
    {
     "data": {
      "text/plain": [
       "[('#include <bits/stdc++.h>\\nusing namespace std;\\ntypedef long long ll;\\nconst ll INF = LLONG_MAX;\\nconst int MAXN = 1005;\\n\\nvector<pair<int, int>> adj[MAXN];\\nll dist[MAXN];\\n\\nvoid dijkstra(int src, int n) {\\n    fill(dist, dist + n, INF);\\n    dist[src] = 0;\\n    priority_queue<pair<ll, int>, vector<pair<ll, int>>, greater<pair<ll, int>>> pq;\\n    pq.push({0, src});\\n\\n    while (!pq.empty()) {\\n        ll d = pq.top().first;\\n        int u = pq.top().second;\\n        pq.pop();\\n\\n        if (d > dist[u]) continue;\\n\\n        for (auto edge : adj[u]) {\\n            int v = edge.first;\\n            int w = edge.second;\\n            ll new_dist = d;\\n\\n            // Apply the modified weight rules\\n            if (w == 1 && d % 2 == 0) {\\n                new_dist += 2;\\n            } else if (w == 0 && d % 2 != 0) {\\n                new_dist += 2;\\n            } else {\\n                new_dist += 1;\\n            }\\n\\n            if (new_dist < dist[v]) {\\n                dist[v] = new_dist;\\n                pq.push({new_dist, v});\\n            }\\n        }\\n    }\\n}\\n\\nint main() {\\n    int n, m, q;\\n    cin >> n >> m >> q;\\n\\n    for (int i = 0; i < m; ++i) {\\n        int u, v, w;\\n        cin >> u >> v >> w;\\n        adj[u].push_back({v, w});\\n    }\\n\\n    for (int i = 0; i < q; ++i) {\\n        int src, dest;\\n        cin >> src >> dest;\\n        dijkstra(src, n);\\n        if (dist[dest] == INF) {\\n            cout << -1 << endl;\\n        } else {\\n            cout << dist[dest] << endl;\\n        }\\n    }\\n\\n    return 0;\\n}',\n",
       "  '#include <stdio.h>\\n#include <stdlib.h>\\n#include <string.h>\\n#include <pthread.h>\\n\\n#define MAX_ACCOUNTS 100\\n\\ntypedef struct {\\n    int account_number;\\n    char account_holder[100];\\n    double balance;  // Changed to double to handle float precision issues\\n} Account;\\n\\nAccount accounts[MAX_ACCOUNTS];\\nint account_count = 0;\\npthread_mutex_t lock;\\n\\nvoid create_account(int account_number, const char* holder) {\\n    pthread_mutex_lock(&lock);  // Locking for thread safety\\n    if (account_count < MAX_ACCOUNTS) {\\n        accounts[account_count].account_number = account_number;\\n        strcpy(accounts[account_count].account_holder, holder);\\n        accounts[account_count].balance = 0.0;\\n        account_count++;\\n    }\\n    pthread_mutex_unlock(&lock);  // Unlocking after operation\\n}\\n\\nAccount* find_account(int account_number) {\\n    for (int i = 0; i < account_count; i++) {\\n        if (accounts[i].account_number == account_number) {\\n            return &accounts[i];\\n        }\\n    }\\n    return NULL;\\n}\\n\\nvoid deposit(int account_number, double amount) {\\n    pthread_mutex_lock(&lock);  // Locking for thread safety\\n    Account* account = find_account(account_number);\\n    if (account != NULL && amount > 0) {\\n        account->balance += amount;\\n    }\\n    pthread_mutex_unlock(&lock);  // Unlocking after operation\\n}\\n\\nvoid withdraw(int account_number, double amount) {\\n    pthread_mutex_lock(&lock);  // Locking for thread safety\\n    Account* account = find_account(account_number);\\n    if (account != NULL && amount > 0 && account->balance >= amount) {\\n        account->balance -= amount;\\n    }\\n    pthread_mutex_unlock(&lock);  // Unlocking after operation\\n}\\n\\ndouble check_balance(int account_number) {\\n    pthread_mutex_lock(&lock);  // Locking for thread safety\\n    Account* account = find_account(account_number);\\n    double balance = (account != NULL) ? account->balance : -1.0;\\n    pthread_mutex_unlock(&lock);  // Unlocking after operation\\n    return balance;\\n}\\n\\nint main() {\\n    pthread_mutex_init(&lock, NULL);\\n\\n    create_account(1, \"John Doe\");\\n    create_account(2, \"Jane Smith\");\\n\\n    deposit(1, 100.0);\\n    withdraw(1, 50.0);\\n\\n    printf(\"Balance for account 1: %f\\\\n\", check_balance(1));\\n    printf(\"Balance for account 2: %f\\\\n\", check_balance(2));\\n\\n    pthread_mutex_destroy(&lock);\\n\\n    return 0;\\n}')]"
      ]
     },
     "execution_count": 14,
     "metadata": {},
     "output_type": "execute_result"
    }
   ],
   "source": [
    "tuples = get_code_edit_patches(parsed['code_block'], '\\n'.join(dataset['completion'][0].split('\\n')[1:-1]))\n",
    "tuples"
   ]
  },
  {
   "cell_type": "code",
   "execution_count": null,
   "id": "1b81e35d",
   "metadata": {},
   "outputs": [
    {
     "data": {
      "text/plain": [
       "'graph_algorithms/src/dijkstra.cpp'"
      ]
     },
     "execution_count": 15,
     "metadata": {},
     "output_type": "execute_result"
    }
   ],
   "source": [
    "file_path = get_file_path(parsed['code_block'], parsed['language'])\n",
    "file_path"
   ]
  },
  {
   "cell_type": "code",
   "execution_count": null,
   "id": "b147738e",
   "metadata": {},
   "outputs": [],
   "source": []
  }
 ],
 "metadata": {
  "kernelspec": {
   "display_name": ".venv",
   "language": "python",
   "name": "python3"
  },
  "language_info": {
   "codemirror_mode": {
    "name": "ipython",
    "version": 3
   },
   "file_extension": ".py",
   "mimetype": "text/x-python",
   "name": "python",
   "nbconvert_exporter": "python",
   "pygments_lexer": "ipython3",
   "version": "3.13.5"
  }
 },
 "nbformat": 4,
 "nbformat_minor": 5
}
